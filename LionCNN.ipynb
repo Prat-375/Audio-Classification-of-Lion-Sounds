{
  "nbformat": 4,
  "nbformat_minor": 0,
  "metadata": {
    "colab": {
      "provenance": []
    },
    "kernelspec": {
      "name": "python3",
      "display_name": "Python 3"
    },
    "language_info": {
      "name": "python"
    }
  },
  "cells": [
    {
      "cell_type": "code",
      "execution_count": 1,
      "metadata": {
        "colab": {
          "base_uri": "https://localhost:8080/"
        },
        "id": "AQK3l1YgOjKB",
        "outputId": "3352de22-0c12-471d-cbec-370b398004f0"
      },
      "outputs": [
        {
          "output_type": "stream",
          "name": "stdout",
          "text": [
            "Collecting resampy\n",
            "  Downloading resampy-0.4.2-py3-none-any.whl (3.1 MB)\n",
            "\u001b[2K     \u001b[90m━━━━━━━━━━━━━━━━━━━━━━━━━━━━━━━━━━━━━━━━\u001b[0m \u001b[32m3.1/3.1 MB\u001b[0m \u001b[31m14.6 MB/s\u001b[0m eta \u001b[36m0:00:00\u001b[0m\n",
            "\u001b[?25hRequirement already satisfied: numpy>=1.17 in /usr/local/lib/python3.10/dist-packages (from resampy) (1.23.5)\n",
            "Requirement already satisfied: numba>=0.53 in /usr/local/lib/python3.10/dist-packages (from resampy) (0.56.4)\n",
            "Requirement already satisfied: llvmlite<0.40,>=0.39.0dev0 in /usr/local/lib/python3.10/dist-packages (from numba>=0.53->resampy) (0.39.1)\n",
            "Requirement already satisfied: setuptools in /usr/local/lib/python3.10/dist-packages (from numba>=0.53->resampy) (67.7.2)\n",
            "Installing collected packages: resampy\n",
            "Successfully installed resampy-0.4.2\n"
          ]
        }
      ],
      "source": [
        "!pip install resampy"
      ]
    },
    {
      "cell_type": "code",
      "source": [
        "import os\n",
        "import pandas as pd\n",
        "import matplotlib.pyplot as plt\n",
        "import librosa\n",
        "import librosa.display\n",
        "import numpy as np\n",
        "from tqdm import tqdm\n",
        "import resampy\n",
        "\n",
        "from sklearn.preprocessing import LabelEncoder\n",
        "from keras.utils import np_utils\n",
        "\n",
        "import tensorflow as tf\n",
        "from keras.utils import to_categorical\n",
        "from keras.models import Sequential, load_model\n",
        "from keras.layers import Dense , Activation , Dropout , SpatialDropout2D, Conv2D, MaxPooling2D, BatchNormalization, GlobalAveragePooling2D, ReLU, Flatten\n",
        "from keras.optimizers import Adam\n",
        "\n",
        "from keras import backend as keras_backend\n",
        "from keras.callbacks import ModelCheckpoint\n",
        "from keras.regularizers import l2\n",
        "\n",
        "from sklearn.metrics import classification_report, confusion_matrix\n",
        "from sklearn.model_selection import train_test_split\n",
        "\n",
        "import seaborn as sns\n",
        "import random\n",
        "import math\n",
        "\n",
        "from glob import glob\n",
        "from itertools import cycle\n",
        "\n",
        "sns.set_theme(style=\"white\", palette=None)\n",
        "color_pal = plt.rcParams[\"axes.prop_cycle\"].by_key()[\"color\"]\n",
        "color_cycle = cycle(plt.rcParams[\"axes.prop_cycle\"].by_key()[\"color\"])"
      ],
      "metadata": {
        "id": "bNi_jazWO3DI"
      },
      "execution_count": 52,
      "outputs": []
    },
    {
      "cell_type": "code",
      "source": [
        "def create_dataset_df(csv_file):\n",
        "    dataset_df = pd.read_csv(csv_file)\n",
        "    filepaths = []\n",
        "    for i, row in dataset_df.iterrows():\n",
        "        filepaths.append(os.path.join('/content/drive/MyDrive/ThesisData/', 'File'+str(row['fold']), row['slice_file_name']))\n",
        "    dataset_df['filepath'] = filepaths\n",
        "    return dataset_df"
      ],
      "metadata": {
        "id": "60pTHD0oYC_S"
      },
      "execution_count": 3,
      "outputs": []
    },
    {
      "cell_type": "code",
      "source": [
        "df = create_dataset_df('/content/drive/MyDrive/ThesisData/ThesisLionMD.csv')"
      ],
      "metadata": {
        "id": "pElCpLuXYP-2"
      },
      "execution_count": 4,
      "outputs": []
    },
    {
      "cell_type": "code",
      "source": [
        "len(df)"
      ],
      "metadata": {
        "colab": {
          "base_uri": "https://localhost:8080/"
        },
        "id": "MzTKgNYpz55w",
        "outputId": "be1a86d8-ebc1-4ec3-c284-daf4cc19a286"
      },
      "execution_count": 22,
      "outputs": [
        {
          "output_type": "execute_result",
          "data": {
            "text/plain": [
              "3480"
            ]
          },
          "metadata": {},
          "execution_count": 22
        }
      ]
    },
    {
      "cell_type": "code",
      "source": [
        "def get_duration(file_name):\n",
        "\n",
        "    # load the audio file\n",
        "    audio,sample_rate = librosa.load(file_name,res_type='kaiser_fast')\n",
        "\n",
        "    time = librosa.get_duration(y=audio, sr=sample_rate)\n",
        "\n",
        "    return time"
      ],
      "metadata": {
        "id": "PEXE5GtlYSPY"
      },
      "execution_count": 6,
      "outputs": []
    },
    {
      "cell_type": "code",
      "source": [
        "duration = []\n",
        "\n",
        "for index_num, row in tqdm(df.iterrows()):\n",
        "\n",
        "    # get the file\n",
        "    file_name = os.path.join(os.path.abspath('drive/MyDrive/ThesisData/'),'File'+str(row[\"fold\"])+'/',str(row['slice_file_name']))\n",
        "\n",
        "    time = get_duration(file_name)\n",
        "\n",
        "    duration.append(time)"
      ],
      "metadata": {
        "colab": {
          "base_uri": "https://localhost:8080/"
        },
        "id": "DBmWStPKYWrO",
        "outputId": "66ebd0ac-03a7-42d7-ae26-bc7e68febd48"
      },
      "execution_count": 7,
      "outputs": [
        {
          "output_type": "stream",
          "name": "stderr",
          "text": [
            "3480it [24:28,  2.37it/s]\n"
          ]
        }
      ]
    },
    {
      "cell_type": "code",
      "source": [
        "df['duration'] = duration\n",
        "sorted_df = df[df.duration <= 3]\n",
        "sorted_df['class'].value_counts()"
      ],
      "metadata": {
        "colab": {
          "base_uri": "https://localhost:8080/"
        },
        "id": "KOk-8Ms8a_4v",
        "outputId": "7de602ca-c50a-4c40-805b-1478b7bc1134"
      },
      "execution_count": 9,
      "outputs": [
        {
          "output_type": "execute_result",
          "data": {
            "text/plain": [
              "Grunt    1491\n",
              "Roar      993\n",
              "IRoar     987\n",
              "Name: class, dtype: int64"
            ]
          },
          "metadata": {},
          "execution_count": 9
        }
      ]
    },
    {
      "cell_type": "code",
      "source": [
        "len(sorted_df)"
      ],
      "metadata": {
        "colab": {
          "base_uri": "https://localhost:8080/"
        },
        "id": "z_TT2pWw0Jzi",
        "outputId": "fc3b5592-7056-40e2-fb27-c58fa32507e1"
      },
      "execution_count": 23,
      "outputs": [
        {
          "output_type": "execute_result",
          "data": {
            "text/plain": [
              "3471"
            ]
          },
          "metadata": {},
          "execution_count": 23
        }
      ]
    },
    {
      "cell_type": "code",
      "source": [
        "class_map = {'1' : 'IRoar', '0' : 'Roar', '2' : 'Grunt'}\n",
        "pd.DataFrame(sorted(list(class_map.items())))"
      ],
      "metadata": {
        "colab": {
          "base_uri": "https://localhost:8080/",
          "height": 143
        },
        "id": "82CD6rIvbDAM",
        "outputId": "6ce79d05-fd0d-4337-c398-8a1122c5adf1"
      },
      "execution_count": 10,
      "outputs": [
        {
          "output_type": "execute_result",
          "data": {
            "text/plain": [
              "   0      1\n",
              "0  0   Roar\n",
              "1  1  IRoar\n",
              "2  2  Grunt"
            ],
            "text/html": [
              "\n",
              "\n",
              "  <div id=\"df-9b2ba808-af83-4caa-b867-2f77c657b1b0\">\n",
              "    <div class=\"colab-df-container\">\n",
              "      <div>\n",
              "<style scoped>\n",
              "    .dataframe tbody tr th:only-of-type {\n",
              "        vertical-align: middle;\n",
              "    }\n",
              "\n",
              "    .dataframe tbody tr th {\n",
              "        vertical-align: top;\n",
              "    }\n",
              "\n",
              "    .dataframe thead th {\n",
              "        text-align: right;\n",
              "    }\n",
              "</style>\n",
              "<table border=\"1\" class=\"dataframe\">\n",
              "  <thead>\n",
              "    <tr style=\"text-align: right;\">\n",
              "      <th></th>\n",
              "      <th>0</th>\n",
              "      <th>1</th>\n",
              "    </tr>\n",
              "  </thead>\n",
              "  <tbody>\n",
              "    <tr>\n",
              "      <th>0</th>\n",
              "      <td>0</td>\n",
              "      <td>Roar</td>\n",
              "    </tr>\n",
              "    <tr>\n",
              "      <th>1</th>\n",
              "      <td>1</td>\n",
              "      <td>IRoar</td>\n",
              "    </tr>\n",
              "    <tr>\n",
              "      <th>2</th>\n",
              "      <td>2</td>\n",
              "      <td>Grunt</td>\n",
              "    </tr>\n",
              "  </tbody>\n",
              "</table>\n",
              "</div>\n",
              "      <button class=\"colab-df-convert\" onclick=\"convertToInteractive('df-9b2ba808-af83-4caa-b867-2f77c657b1b0')\"\n",
              "              title=\"Convert this dataframe to an interactive table.\"\n",
              "              style=\"display:none;\">\n",
              "\n",
              "  <svg xmlns=\"http://www.w3.org/2000/svg\" height=\"24px\"viewBox=\"0 0 24 24\"\n",
              "       width=\"24px\">\n",
              "    <path d=\"M0 0h24v24H0V0z\" fill=\"none\"/>\n",
              "    <path d=\"M18.56 5.44l.94 2.06.94-2.06 2.06-.94-2.06-.94-.94-2.06-.94 2.06-2.06.94zm-11 1L8.5 8.5l.94-2.06 2.06-.94-2.06-.94L8.5 2.5l-.94 2.06-2.06.94zm10 10l.94 2.06.94-2.06 2.06-.94-2.06-.94-.94-2.06-.94 2.06-2.06.94z\"/><path d=\"M17.41 7.96l-1.37-1.37c-.4-.4-.92-.59-1.43-.59-.52 0-1.04.2-1.43.59L10.3 9.45l-7.72 7.72c-.78.78-.78 2.05 0 2.83L4 21.41c.39.39.9.59 1.41.59.51 0 1.02-.2 1.41-.59l7.78-7.78 2.81-2.81c.8-.78.8-2.07 0-2.86zM5.41 20L4 18.59l7.72-7.72 1.47 1.35L5.41 20z\"/>\n",
              "  </svg>\n",
              "      </button>\n",
              "\n",
              "\n",
              "\n",
              "    <div id=\"df-feb034f3-afb0-44e4-956a-f2f88d01be44\">\n",
              "      <button class=\"colab-df-quickchart\" onclick=\"quickchart('df-feb034f3-afb0-44e4-956a-f2f88d01be44')\"\n",
              "              title=\"Suggest charts.\"\n",
              "              style=\"display:none;\">\n",
              "\n",
              "<svg xmlns=\"http://www.w3.org/2000/svg\" height=\"24px\"viewBox=\"0 0 24 24\"\n",
              "     width=\"24px\">\n",
              "    <g>\n",
              "        <path d=\"M19 3H5c-1.1 0-2 .9-2 2v14c0 1.1.9 2 2 2h14c1.1 0 2-.9 2-2V5c0-1.1-.9-2-2-2zM9 17H7v-7h2v7zm4 0h-2V7h2v10zm4 0h-2v-4h2v4z\"/>\n",
              "    </g>\n",
              "</svg>\n",
              "      </button>\n",
              "    </div>\n",
              "\n",
              "<style>\n",
              "  .colab-df-quickchart {\n",
              "    background-color: #E8F0FE;\n",
              "    border: none;\n",
              "    border-radius: 50%;\n",
              "    cursor: pointer;\n",
              "    display: none;\n",
              "    fill: #1967D2;\n",
              "    height: 32px;\n",
              "    padding: 0 0 0 0;\n",
              "    width: 32px;\n",
              "  }\n",
              "\n",
              "  .colab-df-quickchart:hover {\n",
              "    background-color: #E2EBFA;\n",
              "    box-shadow: 0px 1px 2px rgba(60, 64, 67, 0.3), 0px 1px 3px 1px rgba(60, 64, 67, 0.15);\n",
              "    fill: #174EA6;\n",
              "  }\n",
              "\n",
              "  [theme=dark] .colab-df-quickchart {\n",
              "    background-color: #3B4455;\n",
              "    fill: #D2E3FC;\n",
              "  }\n",
              "\n",
              "  [theme=dark] .colab-df-quickchart:hover {\n",
              "    background-color: #434B5C;\n",
              "    box-shadow: 0px 1px 3px 1px rgba(0, 0, 0, 0.15);\n",
              "    filter: drop-shadow(0px 1px 2px rgba(0, 0, 0, 0.3));\n",
              "    fill: #FFFFFF;\n",
              "  }\n",
              "</style>\n",
              "\n",
              "    <script>\n",
              "      async function quickchart(key) {\n",
              "        const containerElement = document.querySelector('#' + key);\n",
              "        const charts = await google.colab.kernel.invokeFunction(\n",
              "            'suggestCharts', [key], {});\n",
              "      }\n",
              "    </script>\n",
              "\n",
              "      <script>\n",
              "\n",
              "function displayQuickchartButton(domScope) {\n",
              "  let quickchartButtonEl =\n",
              "    domScope.querySelector('#df-feb034f3-afb0-44e4-956a-f2f88d01be44 button.colab-df-quickchart');\n",
              "  quickchartButtonEl.style.display =\n",
              "    google.colab.kernel.accessAllowed ? 'block' : 'none';\n",
              "}\n",
              "\n",
              "        displayQuickchartButton(document);\n",
              "      </script>\n",
              "      <style>\n",
              "    .colab-df-container {\n",
              "      display:flex;\n",
              "      flex-wrap:wrap;\n",
              "      gap: 12px;\n",
              "    }\n",
              "\n",
              "    .colab-df-convert {\n",
              "      background-color: #E8F0FE;\n",
              "      border: none;\n",
              "      border-radius: 50%;\n",
              "      cursor: pointer;\n",
              "      display: none;\n",
              "      fill: #1967D2;\n",
              "      height: 32px;\n",
              "      padding: 0 0 0 0;\n",
              "      width: 32px;\n",
              "    }\n",
              "\n",
              "    .colab-df-convert:hover {\n",
              "      background-color: #E2EBFA;\n",
              "      box-shadow: 0px 1px 2px rgba(60, 64, 67, 0.3), 0px 1px 3px 1px rgba(60, 64, 67, 0.15);\n",
              "      fill: #174EA6;\n",
              "    }\n",
              "\n",
              "    [theme=dark] .colab-df-convert {\n",
              "      background-color: #3B4455;\n",
              "      fill: #D2E3FC;\n",
              "    }\n",
              "\n",
              "    [theme=dark] .colab-df-convert:hover {\n",
              "      background-color: #434B5C;\n",
              "      box-shadow: 0px 1px 3px 1px rgba(0, 0, 0, 0.15);\n",
              "      filter: drop-shadow(0px 1px 2px rgba(0, 0, 0, 0.3));\n",
              "      fill: #FFFFFF;\n",
              "    }\n",
              "  </style>\n",
              "\n",
              "      <script>\n",
              "        const buttonEl =\n",
              "          document.querySelector('#df-9b2ba808-af83-4caa-b867-2f77c657b1b0 button.colab-df-convert');\n",
              "        buttonEl.style.display =\n",
              "          google.colab.kernel.accessAllowed ? 'block' : 'none';\n",
              "\n",
              "        async function convertToInteractive(key) {\n",
              "          const element = document.querySelector('#df-9b2ba808-af83-4caa-b867-2f77c657b1b0');\n",
              "          const dataTable =\n",
              "            await google.colab.kernel.invokeFunction('convertToInteractive',\n",
              "                                                     [key], {});\n",
              "          if (!dataTable) return;\n",
              "\n",
              "          const docLinkHtml = 'Like what you see? Visit the ' +\n",
              "            '<a target=\"_blank\" href=https://colab.research.google.com/notebooks/data_table.ipynb>data table notebook</a>'\n",
              "            + ' to learn more about interactive tables.';\n",
              "          element.innerHTML = '';\n",
              "          dataTable['output_type'] = 'display_data';\n",
              "          await google.colab.output.renderOutput(dataTable, element);\n",
              "          const docLink = document.createElement('div');\n",
              "          docLink.innerHTML = docLinkHtml;\n",
              "          element.appendChild(docLink);\n",
              "        }\n",
              "      </script>\n",
              "    </div>\n",
              "  </div>\n"
            ]
          },
          "metadata": {},
          "execution_count": 10
        }
      ]
    },
    {
      "cell_type": "code",
      "source": [
        "appended = []\n",
        "for i in range(1,4):\n",
        "    appended.append(sorted_df[sorted_df.fold == i]['class'].value_counts())\n",
        "\n",
        "class_distribution = pd.DataFrame(appended)\n",
        "class_distribution = class_distribution.reset_index()\n",
        "class_distribution['index'] = [\"fold\"+str(x) for x in range(1,4)]\n",
        "class_distribution"
      ],
      "metadata": {
        "colab": {
          "base_uri": "https://localhost:8080/",
          "height": 143
        },
        "id": "MpuXaOO0bI6t",
        "outputId": "e6839dbe-caa5-4358-9ccb-6d24edf70276"
      },
      "execution_count": 11,
      "outputs": [
        {
          "output_type": "execute_result",
          "data": {
            "text/plain": [
              "   index  Grunt  Roar  IRoar\n",
              "0  fold1    496   332    326\n",
              "1  fold2    496   329    329\n",
              "2  fold3    499   332    332"
            ],
            "text/html": [
              "\n",
              "\n",
              "  <div id=\"df-30d69f2a-5aa4-47f2-8b6c-2af8c803e07f\">\n",
              "    <div class=\"colab-df-container\">\n",
              "      <div>\n",
              "<style scoped>\n",
              "    .dataframe tbody tr th:only-of-type {\n",
              "        vertical-align: middle;\n",
              "    }\n",
              "\n",
              "    .dataframe tbody tr th {\n",
              "        vertical-align: top;\n",
              "    }\n",
              "\n",
              "    .dataframe thead th {\n",
              "        text-align: right;\n",
              "    }\n",
              "</style>\n",
              "<table border=\"1\" class=\"dataframe\">\n",
              "  <thead>\n",
              "    <tr style=\"text-align: right;\">\n",
              "      <th></th>\n",
              "      <th>index</th>\n",
              "      <th>Grunt</th>\n",
              "      <th>Roar</th>\n",
              "      <th>IRoar</th>\n",
              "    </tr>\n",
              "  </thead>\n",
              "  <tbody>\n",
              "    <tr>\n",
              "      <th>0</th>\n",
              "      <td>fold1</td>\n",
              "      <td>496</td>\n",
              "      <td>332</td>\n",
              "      <td>326</td>\n",
              "    </tr>\n",
              "    <tr>\n",
              "      <th>1</th>\n",
              "      <td>fold2</td>\n",
              "      <td>496</td>\n",
              "      <td>329</td>\n",
              "      <td>329</td>\n",
              "    </tr>\n",
              "    <tr>\n",
              "      <th>2</th>\n",
              "      <td>fold3</td>\n",
              "      <td>499</td>\n",
              "      <td>332</td>\n",
              "      <td>332</td>\n",
              "    </tr>\n",
              "  </tbody>\n",
              "</table>\n",
              "</div>\n",
              "      <button class=\"colab-df-convert\" onclick=\"convertToInteractive('df-30d69f2a-5aa4-47f2-8b6c-2af8c803e07f')\"\n",
              "              title=\"Convert this dataframe to an interactive table.\"\n",
              "              style=\"display:none;\">\n",
              "\n",
              "  <svg xmlns=\"http://www.w3.org/2000/svg\" height=\"24px\"viewBox=\"0 0 24 24\"\n",
              "       width=\"24px\">\n",
              "    <path d=\"M0 0h24v24H0V0z\" fill=\"none\"/>\n",
              "    <path d=\"M18.56 5.44l.94 2.06.94-2.06 2.06-.94-2.06-.94-.94-2.06-.94 2.06-2.06.94zm-11 1L8.5 8.5l.94-2.06 2.06-.94-2.06-.94L8.5 2.5l-.94 2.06-2.06.94zm10 10l.94 2.06.94-2.06 2.06-.94-2.06-.94-.94-2.06-.94 2.06-2.06.94z\"/><path d=\"M17.41 7.96l-1.37-1.37c-.4-.4-.92-.59-1.43-.59-.52 0-1.04.2-1.43.59L10.3 9.45l-7.72 7.72c-.78.78-.78 2.05 0 2.83L4 21.41c.39.39.9.59 1.41.59.51 0 1.02-.2 1.41-.59l7.78-7.78 2.81-2.81c.8-.78.8-2.07 0-2.86zM5.41 20L4 18.59l7.72-7.72 1.47 1.35L5.41 20z\"/>\n",
              "  </svg>\n",
              "      </button>\n",
              "\n",
              "\n",
              "\n",
              "    <div id=\"df-149f8201-e894-44a2-af3b-680f0f13db9c\">\n",
              "      <button class=\"colab-df-quickchart\" onclick=\"quickchart('df-149f8201-e894-44a2-af3b-680f0f13db9c')\"\n",
              "              title=\"Suggest charts.\"\n",
              "              style=\"display:none;\">\n",
              "\n",
              "<svg xmlns=\"http://www.w3.org/2000/svg\" height=\"24px\"viewBox=\"0 0 24 24\"\n",
              "     width=\"24px\">\n",
              "    <g>\n",
              "        <path d=\"M19 3H5c-1.1 0-2 .9-2 2v14c0 1.1.9 2 2 2h14c1.1 0 2-.9 2-2V5c0-1.1-.9-2-2-2zM9 17H7v-7h2v7zm4 0h-2V7h2v10zm4 0h-2v-4h2v4z\"/>\n",
              "    </g>\n",
              "</svg>\n",
              "      </button>\n",
              "    </div>\n",
              "\n",
              "<style>\n",
              "  .colab-df-quickchart {\n",
              "    background-color: #E8F0FE;\n",
              "    border: none;\n",
              "    border-radius: 50%;\n",
              "    cursor: pointer;\n",
              "    display: none;\n",
              "    fill: #1967D2;\n",
              "    height: 32px;\n",
              "    padding: 0 0 0 0;\n",
              "    width: 32px;\n",
              "  }\n",
              "\n",
              "  .colab-df-quickchart:hover {\n",
              "    background-color: #E2EBFA;\n",
              "    box-shadow: 0px 1px 2px rgba(60, 64, 67, 0.3), 0px 1px 3px 1px rgba(60, 64, 67, 0.15);\n",
              "    fill: #174EA6;\n",
              "  }\n",
              "\n",
              "  [theme=dark] .colab-df-quickchart {\n",
              "    background-color: #3B4455;\n",
              "    fill: #D2E3FC;\n",
              "  }\n",
              "\n",
              "  [theme=dark] .colab-df-quickchart:hover {\n",
              "    background-color: #434B5C;\n",
              "    box-shadow: 0px 1px 3px 1px rgba(0, 0, 0, 0.15);\n",
              "    filter: drop-shadow(0px 1px 2px rgba(0, 0, 0, 0.3));\n",
              "    fill: #FFFFFF;\n",
              "  }\n",
              "</style>\n",
              "\n",
              "    <script>\n",
              "      async function quickchart(key) {\n",
              "        const containerElement = document.querySelector('#' + key);\n",
              "        const charts = await google.colab.kernel.invokeFunction(\n",
              "            'suggestCharts', [key], {});\n",
              "      }\n",
              "    </script>\n",
              "\n",
              "      <script>\n",
              "\n",
              "function displayQuickchartButton(domScope) {\n",
              "  let quickchartButtonEl =\n",
              "    domScope.querySelector('#df-149f8201-e894-44a2-af3b-680f0f13db9c button.colab-df-quickchart');\n",
              "  quickchartButtonEl.style.display =\n",
              "    google.colab.kernel.accessAllowed ? 'block' : 'none';\n",
              "}\n",
              "\n",
              "        displayQuickchartButton(document);\n",
              "      </script>\n",
              "      <style>\n",
              "    .colab-df-container {\n",
              "      display:flex;\n",
              "      flex-wrap:wrap;\n",
              "      gap: 12px;\n",
              "    }\n",
              "\n",
              "    .colab-df-convert {\n",
              "      background-color: #E8F0FE;\n",
              "      border: none;\n",
              "      border-radius: 50%;\n",
              "      cursor: pointer;\n",
              "      display: none;\n",
              "      fill: #1967D2;\n",
              "      height: 32px;\n",
              "      padding: 0 0 0 0;\n",
              "      width: 32px;\n",
              "    }\n",
              "\n",
              "    .colab-df-convert:hover {\n",
              "      background-color: #E2EBFA;\n",
              "      box-shadow: 0px 1px 2px rgba(60, 64, 67, 0.3), 0px 1px 3px 1px rgba(60, 64, 67, 0.15);\n",
              "      fill: #174EA6;\n",
              "    }\n",
              "\n",
              "    [theme=dark] .colab-df-convert {\n",
              "      background-color: #3B4455;\n",
              "      fill: #D2E3FC;\n",
              "    }\n",
              "\n",
              "    [theme=dark] .colab-df-convert:hover {\n",
              "      background-color: #434B5C;\n",
              "      box-shadow: 0px 1px 3px 1px rgba(0, 0, 0, 0.15);\n",
              "      filter: drop-shadow(0px 1px 2px rgba(0, 0, 0, 0.3));\n",
              "      fill: #FFFFFF;\n",
              "    }\n",
              "  </style>\n",
              "\n",
              "      <script>\n",
              "        const buttonEl =\n",
              "          document.querySelector('#df-30d69f2a-5aa4-47f2-8b6c-2af8c803e07f button.colab-df-convert');\n",
              "        buttonEl.style.display =\n",
              "          google.colab.kernel.accessAllowed ? 'block' : 'none';\n",
              "\n",
              "        async function convertToInteractive(key) {\n",
              "          const element = document.querySelector('#df-30d69f2a-5aa4-47f2-8b6c-2af8c803e07f');\n",
              "          const dataTable =\n",
              "            await google.colab.kernel.invokeFunction('convertToInteractive',\n",
              "                                                     [key], {});\n",
              "          if (!dataTable) return;\n",
              "\n",
              "          const docLinkHtml = 'Like what you see? Visit the ' +\n",
              "            '<a target=\"_blank\" href=https://colab.research.google.com/notebooks/data_table.ipynb>data table notebook</a>'\n",
              "            + ' to learn more about interactive tables.';\n",
              "          element.innerHTML = '';\n",
              "          dataTable['output_type'] = 'display_data';\n",
              "          await google.colab.output.renderOutput(dataTable, element);\n",
              "          const docLink = document.createElement('div');\n",
              "          docLink.innerHTML = docLinkHtml;\n",
              "          element.appendChild(docLink);\n",
              "        }\n",
              "      </script>\n",
              "    </div>\n",
              "  </div>\n"
            ]
          },
          "metadata": {},
          "execution_count": 11
        }
      ]
    },
    {
      "cell_type": "code",
      "source": [
        "# Randomly select one sample of each class\n",
        "random_samples = sorted_df.groupby('class').sample(1)\n",
        "audio_samples, labels = random_samples['filepath'].tolist(), random_samples['class'].tolist()\n",
        "\n",
        "# Visualize the waveforms\n",
        "fig, axs = plt.subplots(3, 1, figsize=(15,10))\n",
        "index = 0\n",
        "for col in range(3):\n",
        "    audio_file, sample_rate = librosa.load(audio_samples[index])\n",
        "    librosa.display.waveshow(y=audio_file, sr=sample_rate, ax=axs[col])\n",
        "    axs[col].set_title('{}'.format(labels[index]))\n",
        "    index += 1\n",
        "fig.tight_layout()"
      ],
      "metadata": {
        "colab": {
          "base_uri": "https://localhost:8080/",
          "height": 868
        },
        "id": "qcx0yRpPbNRI",
        "outputId": "b9f42898-0aa5-4e24-b44d-e354f686610e"
      },
      "execution_count": 12,
      "outputs": [
        {
          "output_type": "display_data",
          "data": {
            "text/plain": [
              "<Figure size 1500x1000 with 3 Axes>"
            ],
            "image/png": "[encoded data removed]"
          },
          "metadata": {}
        }
      ]
    },
    {
      "cell_type": "code",
      "source": [
        "plt.hist(sorted_df['duration'], rwidth=0.9, color='#86bf91')\n",
        "\n",
        "plt.xlabel('Duration')\n",
        "plt.ylabel('Population')\n",
        "plt.title('Histogram of audio lengths')\n",
        "plt.grid(False)\n",
        "plt.show()\n",
        "\n",
        "# Count samples with duration > 3 sec\n",
        "gt_3sec = sorted_df['duration'][(sorted_df['duration'] > 3)].count()\n",
        "gt_2sec = sorted_df['duration'][(sorted_df['duration'] > 2) & (sorted_df['duration'] < 3)].count()\n",
        "lt_2sec = sorted_df['duration'][(sorted_df['duration'] > 1) & (sorted_df['duration'] < 2)].count()\n",
        "lt_1sec = sorted_df['duration'][sorted_df['duration'] < 1].count()\n",
        "\n",
        "# Display counts of interest\n",
        "print(\"Greater than 3 seconds: {}\".format(gt_3sec))\n",
        "print(\"Lower than 3 but greater than 2 seconds: {}\".format(gt_2sec))\n",
        "print(\"Lower than 2 but greater than 1 seconds: {}\".format(lt_2sec))\n",
        "print(\"Lower than 1 seconds: {}\".format(lt_1sec))"
      ],
      "metadata": {
        "colab": {
          "base_uri": "https://localhost:8080/",
          "height": 553
        },
        "id": "9pZQ83-JbSaB",
        "outputId": "494c5a70-f0cc-477d-a7b0-e3d6a9a81970"
      },
      "execution_count": 13,
      "outputs": [
        {
          "output_type": "display_data",
          "data": {
            "text/plain": [
              "<Figure size 640x480 with 1 Axes>"
            ],
            "image/png": "[encoded data removed]"
          },
          "metadata": {}
        },
        {
          "output_type": "stream",
          "name": "stdout",
          "text": [
            "Greater than 3 seconds: 0\n",
            "Lower than 3 but greater than 2 seconds: 152\n",
            "Lower than 2 but greater than 1 seconds: 1601\n",
            "Lower than 1 seconds: 1718\n"
          ]
        }
      ]
    },
    {
      "cell_type": "code",
      "source": [
        "# Feature extraction using librosa\n",
        "\n",
        "def features_extract(file):\n",
        "    # load the audio file\n",
        "    audio,sample_rate = librosa.load(file_name,res_type='kaiser_fast')\n",
        "\n",
        "    #trim the audio file\n",
        "    audio_trimmed, _ = librosa.effects.trim(audio)\n",
        "\n",
        "    # extract the features\n",
        "    feature = librosa.feature.mfcc(y=audio_trimmed[0:2000],sr=sample_rate,n_mfcc=40)\n",
        "    feature_norm = (feature - feature.mean())/feature.std()\n",
        "\n",
        "    # feature scaling\n",
        "    scaled_feature = np.mean(feature_norm.T,axis=0)\n",
        "\n",
        "    # return the scaled features\n",
        "    return scaled_feature\n",
        "\n",
        "# list containg all the features\n",
        "extracted = []\n",
        "\n",
        "# for each row in the csv\n",
        "for index_num,row in tqdm(df.iterrows()):\n",
        "\n",
        "    # get the file\n",
        "    file_name = os.path.join(os.path.abspath('drive/MyDrive/ThesisData/'),'File'+str(row[\"fold\"])+'/',str(row['slice_file_name']))\n",
        "\n",
        "    # get file label\n",
        "    final_class_labels = row['class']\n",
        "\n",
        "    # extract feature\n",
        "    data= features_extract(file_name)\n",
        "\n",
        "    # store it in a list\n",
        "    extracted.append([data,final_class_labels])"
      ],
      "metadata": {
        "colab": {
          "base_uri": "https://localhost:8080/"
        },
        "id": "w-FQduWubYj1",
        "outputId": "7a831bb6-a1f9-4489-cc29-edbc2d35065d"
      },
      "execution_count": 14,
      "outputs": [
        {
          "output_type": "stream",
          "name": "stderr",
          "text": [
            "0it [00:00, ?it/s]/usr/local/lib/python3.10/dist-packages/librosa/core/spectrum.py:256: UserWarning: n_fft=2048 is too large for input signal of length=2000\n",
            "  warnings.warn(\n",
            "174it [00:10, 27.72it/s]/usr/local/lib/python3.10/dist-packages/librosa/core/spectrum.py:256: UserWarning: n_fft=2048 is too large for input signal of length=1999\n",
            "  warnings.warn(\n",
            "3480it [02:24, 24.12it/s]\n"
          ]
        }
      ]
    },
    {
      "cell_type": "code",
      "source": [
        "df_extracted = pd.DataFrame(extracted,columns=['feature','label'])\n",
        "\n",
        "# Adding 'fold' column to new DataFrame which contains extracted feature and label\n",
        "df_extracted['fold'] = df['fold']\n",
        "df_extracted.head()"
      ],
      "metadata": {
        "colab": {
          "base_uri": "https://localhost:8080/",
          "height": 206
        },
        "id": "tyzlLeLHhF7c",
        "outputId": "14ab96d8-7b9b-4a8c-ecea-fcfcdd06f86c"
      },
      "execution_count": 15,
      "outputs": [
        {
          "output_type": "execute_result",
          "data": {
            "text/plain": [
              "                                             feature  label  fold\n",
              "0  [-5.265633, 3.0062795, 0.27746803, 0.5316999, ...  IRoar     1\n",
              "1  [-3.359255, 4.9827685, -0.34542045, 0.60487145...  IRoar     1\n",
              "2  [-4.615505, 3.8425388, 0.5594614, 0.6401226, 0...  Grunt     2\n",
              "3  [-4.8669667, 3.2608159, 0.322846, 0.73293835, ...   Roar     1\n",
              "4  [-4.0004916, 4.5910044, 0.46676683, 0.5683199,...   Roar     3"
            ],
            "text/html": [
              "\n",
              "\n",
              "  <div id=\"df-6eac769d-b823-4120-b48c-adaa5c633e34\">\n",
              "    <div class=\"colab-df-container\">\n",
              "      <div>\n",
              "<style scoped>\n",
              "    .dataframe tbody tr th:only-of-type {\n",
              "        vertical-align: middle;\n",
              "    }\n",
              "\n",
              "    .dataframe tbody tr th {\n",
              "        vertical-align: top;\n",
              "    }\n",
              "\n",
              "    .dataframe thead th {\n",
              "        text-align: right;\n",
              "    }\n",
              "</style>\n",
              "<table border=\"1\" class=\"dataframe\">\n",
              "  <thead>\n",
              "    <tr style=\"text-align: right;\">\n",
              "      <th></th>\n",
              "      <th>feature</th>\n",
              "      <th>label</th>\n",
              "      <th>fold</th>\n",
              "    </tr>\n",
              "  </thead>\n",
              "  <tbody>\n",
              "    <tr>\n",
              "      <th>0</th>\n",
              "      <td>[-5.265633, 3.0062795, 0.27746803, 0.5316999, ...</td>\n",
              "      <td>IRoar</td>\n",
              "      <td>1</td>\n",
              "    </tr>\n",
              "    <tr>\n",
              "      <th>1</th>\n",
              "      <td>[-3.359255, 4.9827685, -0.34542045, 0.60487145...</td>\n",
              "      <td>IRoar</td>\n",
              "      <td>1</td>\n",
              "    </tr>\n",
              "    <tr>\n",
              "      <th>2</th>\n",
              "      <td>[-4.615505, 3.8425388, 0.5594614, 0.6401226, 0...</td>\n",
              "      <td>Grunt</td>\n",
              "      <td>2</td>\n",
              "    </tr>\n",
              "    <tr>\n",
              "      <th>3</th>\n",
              "      <td>[-4.8669667, 3.2608159, 0.322846, 0.73293835, ...</td>\n",
              "      <td>Roar</td>\n",
              "      <td>1</td>\n",
              "    </tr>\n",
              "    <tr>\n",
              "      <th>4</th>\n",
              "      <td>[-4.0004916, 4.5910044, 0.46676683, 0.5683199,...</td>\n",
              "      <td>Roar</td>\n",
              "      <td>3</td>\n",
              "    </tr>\n",
              "  </tbody>\n",
              "</table>\n",
              "</div>\n",
              "      <button class=\"colab-df-convert\" onclick=\"convertToInteractive('df-6eac769d-b823-4120-b48c-adaa5c633e34')\"\n",
              "              title=\"Convert this dataframe to an interactive table.\"\n",
              "              style=\"display:none;\">\n",
              "\n",
              "  <svg xmlns=\"http://www.w3.org/2000/svg\" height=\"24px\"viewBox=\"0 0 24 24\"\n",
              "       width=\"24px\">\n",
              "    <path d=\"M0 0h24v24H0V0z\" fill=\"none\"/>\n",
              "    <path d=\"M18.56 5.44l.94 2.06.94-2.06 2.06-.94-2.06-.94-.94-2.06-.94 2.06-2.06.94zm-11 1L8.5 8.5l.94-2.06 2.06-.94-2.06-.94L8.5 2.5l-.94 2.06-2.06.94zm10 10l.94 2.06.94-2.06 2.06-.94-2.06-.94-.94-2.06-.94 2.06-2.06.94z\"/><path d=\"M17.41 7.96l-1.37-1.37c-.4-.4-.92-.59-1.43-.59-.52 0-1.04.2-1.43.59L10.3 9.45l-7.72 7.72c-.78.78-.78 2.05 0 2.83L4 21.41c.39.39.9.59 1.41.59.51 0 1.02-.2 1.41-.59l7.78-7.78 2.81-2.81c.8-.78.8-2.07 0-2.86zM5.41 20L4 18.59l7.72-7.72 1.47 1.35L5.41 20z\"/>\n",
              "  </svg>\n",
              "      </button>\n",
              "\n",
              "\n",
              "\n",
              "    <div id=\"df-6a0afe50-4ec2-446b-bf51-45115df604c1\">\n",
              "      <button class=\"colab-df-quickchart\" onclick=\"quickchart('df-6a0afe50-4ec2-446b-bf51-45115df604c1')\"\n",
              "              title=\"Suggest charts.\"\n",
              "              style=\"display:none;\">\n",
              "\n",
              "<svg xmlns=\"http://www.w3.org/2000/svg\" height=\"24px\"viewBox=\"0 0 24 24\"\n",
              "     width=\"24px\">\n",
              "    <g>\n",
              "        <path d=\"M19 3H5c-1.1 0-2 .9-2 2v14c0 1.1.9 2 2 2h14c1.1 0 2-.9 2-2V5c0-1.1-.9-2-2-2zM9 17H7v-7h2v7zm4 0h-2V7h2v10zm4 0h-2v-4h2v4z\"/>\n",
              "    </g>\n",
              "</svg>\n",
              "      </button>\n",
              "    </div>\n",
              "\n",
              "<style>\n",
              "  .colab-df-quickchart {\n",
              "    background-color: #E8F0FE;\n",
              "    border: none;\n",
              "    border-radius: 50%;\n",
              "    cursor: pointer;\n",
              "    display: none;\n",
              "    fill: #1967D2;\n",
              "    height: 32px;\n",
              "    padding: 0 0 0 0;\n",
              "    width: 32px;\n",
              "  }\n",
              "\n",
              "  .colab-df-quickchart:hover {\n",
              "    background-color: #E2EBFA;\n",
              "    box-shadow: 0px 1px 2px rgba(60, 64, 67, 0.3), 0px 1px 3px 1px rgba(60, 64, 67, 0.15);\n",
              "    fill: #174EA6;\n",
              "  }\n",
              "\n",
              "  [theme=dark] .colab-df-quickchart {\n",
              "    background-color: #3B4455;\n",
              "    fill: #D2E3FC;\n",
              "  }\n",
              "\n",
              "  [theme=dark] .colab-df-quickchart:hover {\n",
              "    background-color: #434B5C;\n",
              "    box-shadow: 0px 1px 3px 1px rgba(0, 0, 0, 0.15);\n",
              "    filter: drop-shadow(0px 1px 2px rgba(0, 0, 0, 0.3));\n",
              "    fill: #FFFFFF;\n",
              "  }\n",
              "</style>\n",
              "\n",
              "    <script>\n",
              "      async function quickchart(key) {\n",
              "        const containerElement = document.querySelector('#' + key);\n",
              "        const charts = await google.colab.kernel.invokeFunction(\n",
              "            'suggestCharts', [key], {});\n",
              "      }\n",
              "    </script>\n",
              "\n",
              "      <script>\n",
              "\n",
              "function displayQuickchartButton(domScope) {\n",
              "  let quickchartButtonEl =\n",
              "    domScope.querySelector('#df-6a0afe50-4ec2-446b-bf51-45115df604c1 button.colab-df-quickchart');\n",
              "  quickchartButtonEl.style.display =\n",
              "    google.colab.kernel.accessAllowed ? 'block' : 'none';\n",
              "}\n",
              "\n",
              "        displayQuickchartButton(document);\n",
              "      </script>\n",
              "      <style>\n",
              "    .colab-df-container {\n",
              "      display:flex;\n",
              "      flex-wrap:wrap;\n",
              "      gap: 12px;\n",
              "    }\n",
              "\n",
              "    .colab-df-convert {\n",
              "      background-color: #E8F0FE;\n",
              "      border: none;\n",
              "      border-radius: 50%;\n",
              "      cursor: pointer;\n",
              "      display: none;\n",
              "      fill: #1967D2;\n",
              "      height: 32px;\n",
              "      padding: 0 0 0 0;\n",
              "      width: 32px;\n",
              "    }\n",
              "\n",
              "    .colab-df-convert:hover {\n",
              "      background-color: #E2EBFA;\n",
              "      box-shadow: 0px 1px 2px rgba(60, 64, 67, 0.3), 0px 1px 3px 1px rgba(60, 64, 67, 0.15);\n",
              "      fill: #174EA6;\n",
              "    }\n",
              "\n",
              "    [theme=dark] .colab-df-convert {\n",
              "      background-color: #3B4455;\n",
              "      fill: #D2E3FC;\n",
              "    }\n",
              "\n",
              "    [theme=dark] .colab-df-convert:hover {\n",
              "      background-color: #434B5C;\n",
              "      box-shadow: 0px 1px 3px 1px rgba(0, 0, 0, 0.15);\n",
              "      filter: drop-shadow(0px 1px 2px rgba(0, 0, 0, 0.3));\n",
              "      fill: #FFFFFF;\n",
              "    }\n",
              "  </style>\n",
              "\n",
              "      <script>\n",
              "        const buttonEl =\n",
              "          document.querySelector('#df-6eac769d-b823-4120-b48c-adaa5c633e34 button.colab-df-convert');\n",
              "        buttonEl.style.display =\n",
              "          google.colab.kernel.accessAllowed ? 'block' : 'none';\n",
              "\n",
              "        async function convertToInteractive(key) {\n",
              "          const element = document.querySelector('#df-6eac769d-b823-4120-b48c-adaa5c633e34');\n",
              "          const dataTable =\n",
              "            await google.colab.kernel.invokeFunction('convertToInteractive',\n",
              "                                                     [key], {});\n",
              "          if (!dataTable) return;\n",
              "\n",
              "          const docLinkHtml = 'Like what you see? Visit the ' +\n",
              "            '<a target=\"_blank\" href=https://colab.research.google.com/notebooks/data_table.ipynb>data table notebook</a>'\n",
              "            + ' to learn more about interactive tables.';\n",
              "          element.innerHTML = '';\n",
              "          dataTable['output_type'] = 'display_data';\n",
              "          await google.colab.output.renderOutput(dataTable, element);\n",
              "          const docLink = document.createElement('div');\n",
              "          docLink.innerHTML = docLinkHtml;\n",
              "          element.appendChild(docLink);\n",
              "        }\n",
              "      </script>\n",
              "    </div>\n",
              "  </div>\n"
            ]
          },
          "metadata": {},
          "execution_count": 15
        }
      ]
    },
    {
      "cell_type": "code",
      "source": [
        "x_train=[]\n",
        "x_test=[]\n",
        "y_train=[]\n",
        "y_test=[]\n",
        "\n",
        "path='/content/drive/MyDrive/ThesisData/File'\n",
        "for i in tqdm(range(len(df))):\n",
        "    fold_no=str(df.iloc[i][\"fold\"])\n",
        "    file=df.iloc[i][\"slice_file_name\"]\n",
        "    label=df.iloc[i][\"classID\"]\n",
        "    filename=path+fold_no+\"/\"+file\n",
        "    y,sr=librosa.load(filename)\n",
        "    mfccs = np.mean(librosa.feature.mfcc(y=y, sr=sr, n_mfcc=40).T,axis=0)\n",
        "    melspectrogram = np.mean(librosa.feature.melspectrogram(y=y, sr=sr, n_mels=40,fmax=8000).T,axis=0)\n",
        "    chroma_stft=np.mean(librosa.feature.chroma_stft(y=y, sr=sr,n_chroma=40).T,axis=0)\n",
        "    features=np.reshape(np.vstack((mfccs,melspectrogram,chroma_stft)),(40,3))\n",
        "    if(fold_no!='3'):\n",
        "      x_train.append(features)\n",
        "      y_train.append(label)\n",
        "    else:\n",
        "      x_test.append(features)\n",
        "      y_test.append(label)"
      ],
      "metadata": {
        "colab": {
          "base_uri": "https://localhost:8080/"
        },
        "id": "IdR_qcLLxMVf",
        "outputId": "4d57860b-7f09-41a7-d84a-c47eb98133d2"
      },
      "execution_count": 40,
      "outputs": [
        {
          "output_type": "stream",
          "name": "stderr",
          "text": [
            "100%|██████████| 3480/3480 [02:21<00:00, 24.55it/s]\n"
          ]
        }
      ]
    },
    {
      "cell_type": "code",
      "source": [
        "x=x_train+x_test\n",
        "y=y_train+y_test"
      ],
      "metadata": {
        "id": "6dpCZTwTCRfC"
      },
      "execution_count": 41,
      "outputs": []
    },
    {
      "cell_type": "code",
      "source": [
        "x=np.array(x)\n",
        "y=np.array(y)\n",
        "x.shape,y.shape"
      ],
      "metadata": {
        "colab": {
          "base_uri": "https://localhost:8080/"
        },
        "id": "b2EHR1mKCTCe",
        "outputId": "c81d33e3-f6f9-4c28-86dc-587f143a9008"
      },
      "execution_count": 42,
      "outputs": [
        {
          "output_type": "execute_result",
          "data": {
            "text/plain": [
              "((3480, 40, 3), (3480,))"
            ]
          },
          "metadata": {},
          "execution_count": 42
        }
      ]
    },
    {
      "cell_type": "code",
      "source": [
        "#reshaping into 2d to save in csv format\n",
        "x_2d=np.reshape(x,(x.shape[0],x.shape[1]*x.shape[2]))\n",
        "x_2d.shape\n",
        "#saving the data numpy arrays\n",
        "np.savetxt(\"x.csv\", x_2d, delimiter=\",\")\n",
        "np.savetxt(\"y.csv\",y,delimiter=\",\")"
      ],
      "metadata": {
        "id": "24P9f9RyCZ3z"
      },
      "execution_count": 43,
      "outputs": []
    },
    {
      "cell_type": "code",
      "source": [
        "indexes = []\n",
        "total = len(df)\n",
        "indexes = list(range(0, total))\n",
        "# Randomize indexes random.shuffle(indexes)\n",
        "# Divide the indexes into Train and Test\n",
        "test_split_pct = 20\n",
        "split_offset = math.floor(test_split_pct * total / 100)\n",
        "# Split the data\n",
        "test_split_idx = indexes[0:split_offset]\n",
        "train_split_idx = indexes[split_offset:total]\n",
        "# Split the features with the same indexes\n",
        "X_test = np.take(x, test_split_idx, axis=0)\n",
        "y_test = np.take(y, test_split_idx, axis=0)\n",
        "X_train = np.take(x, train_split_idx, axis=0)\n",
        "y_train = np.take(y, train_split_idx, axis=0)\n",
        "# Also split metadata\n",
        "test = df.iloc[test_split_idx]\n",
        "train = df.iloc[train_split_idx]\n",
        "# Print status\n",
        "print(\"Test split: {} \\t\\t Train split: {}\".format(len(test), len(train)))\n",
        "print(\"X test shape: {} \\t X train shape: {}\".format(X_test.shape, X_train.shape))\n",
        "print(\"y test shape: {} \\t\\t y train shape: {}\".format(y_test.shape, y_train.shape))"
      ],
      "metadata": {
        "colab": {
          "base_uri": "https://localhost:8080/"
        },
        "id": "mwP-52Z7CfmP",
        "outputId": "09d5e097-daf5-4592-ac39-f64fe13ed2be"
      },
      "execution_count": 47,
      "outputs": [
        {
          "output_type": "stream",
          "name": "stdout",
          "text": [
            "Test split: 696 \t\t Train split: 2784\n",
            "X test shape: (696, 40, 3) \t X train shape: (2784, 40, 3)\n",
            "y test shape: (696,) \t\t y train shape: (2784,)\n"
          ]
        }
      ]
    },
    {
      "cell_type": "code",
      "source": [
        "y_train = to_categorical(y_train, num_classes=3)\n",
        "y_test = to_categorical(y_test, num_classes=3)\n",
        "y_train.shape,y_test.shape"
      ],
      "metadata": {
        "colab": {
          "base_uri": "https://localhost:8080/"
        },
        "id": "NmvmeyyUCiNY",
        "outputId": "7ca14caa-c0b5-4655-8171-e788c0385021"
      },
      "execution_count": 48,
      "outputs": [
        {
          "output_type": "execute_result",
          "data": {
            "text/plain": [
              "((2784, 3), (696, 3))"
            ]
          },
          "metadata": {},
          "execution_count": 48
        }
      ]
    },
    {
      "cell_type": "code",
      "source": [
        "#reshaping to 2D\n",
        "X_train=np.reshape(X_train,(X_train.shape[0], 40,3))\n",
        "X_test=np.reshape(X_test,(X_test.shape[0], 40,3))\n",
        "X_train.shape,X_test.shape"
      ],
      "metadata": {
        "colab": {
          "base_uri": "https://localhost:8080/"
        },
        "id": "XlvsTmbACxuY",
        "outputId": "3fae85ec-a8a5-42c5-e191-b5bebc1892e1"
      },
      "execution_count": 49,
      "outputs": [
        {
          "output_type": "execute_result",
          "data": {
            "text/plain": [
              "((2784, 40, 3), (696, 40, 3))"
            ]
          },
          "metadata": {},
          "execution_count": 49
        }
      ]
    },
    {
      "cell_type": "code",
      "source": [
        "#reshaping to shape required by CNN\n",
        "X_train=np.reshape(X_train,(X_train.shape[0], 40,3,1))\n",
        "X_test=np.reshape(X_test,(X_test.shape[0], 40,3,1))\n",
        "X_train.shape,X_test.shape"
      ],
      "metadata": {
        "colab": {
          "base_uri": "https://localhost:8080/"
        },
        "id": "2h3Eysg0C4Pc",
        "outputId": "8d86fe18-fbd0-4f9d-a66a-41f6422267b7"
      },
      "execution_count": 50,
      "outputs": [
        {
          "output_type": "execute_result",
          "data": {
            "text/plain": [
              "((2784, 40, 3, 1), (696, 40, 3, 1))"
            ]
          },
          "metadata": {},
          "execution_count": 50
        }
      ]
    },
    {
      "cell_type": "code",
      "source": [
        "model=Sequential()\n",
        "#adding layers and forming the model\n",
        "model.add(Conv2D(64,kernel_size=5,strides=1,padding=\"same\",activation=\"elu\",input_shape=(40,3,1)))\n",
        "model.add(MaxPooling2D(padding=\"same\"))\n",
        "model.add(Conv2D(128,kernel_size=5,strides=1,padding=\"same\",activation=\"elu\"))\n",
        "model.add(MaxPooling2D(padding=\"same\"))\n",
        "model.add(Dropout(0.3))\n",
        "model.add(Flatten())\n",
        "model.add(Dense(256,activation=\"elu\"))\n",
        "model.add(Dropout(0.3))\n",
        "model.add(Dense(512,activation=\"elu\"))\n",
        "model.add(Dropout(0.3))\n",
        "model.add(Dense(3,activation=\"softmax\"))"
      ],
      "metadata": {
        "id": "QDgfeCJ1C6dD"
      },
      "execution_count": 54,
      "outputs": []
    },
    {
      "cell_type": "code",
      "source": [
        "#compiling\n",
        "model.compile(optimizer=\"adam\",loss=\"categorical_crossentropy\",metrics=[\"accuracy\"])\n",
        "#training the model\n",
        "model.fit(X_train,y_train,batch_size=50,epochs=30,validation_data=(X_test,y_test))"
      ],
      "metadata": {
        "colab": {
          "base_uri": "https://localhost:8080/"
        },
        "id": "B-U1g7tHDzco",
        "outputId": "464d4c1f-fc16-452e-a951-a312e0b33332"
      },
      "execution_count": 55,
      "outputs": [
        {
          "output_type": "stream",
          "name": "stdout",
          "text": [
            "Epoch 1/30\n",
            "56/56 [==============================] - 7s 95ms/step - loss: 4.9900 - accuracy: 0.6017 - val_loss: 0.5671 - val_accuracy: 0.7543\n",
            "Epoch 2/30\n",
            "56/56 [==============================] - 7s 130ms/step - loss: 0.9477 - accuracy: 0.6534 - val_loss: 0.5155 - val_accuracy: 0.7371\n",
            "Epoch 3/30\n",
            "56/56 [==============================] - 5s 91ms/step - loss: 0.7826 - accuracy: 0.6994 - val_loss: 0.5236 - val_accuracy: 0.7658\n",
            "Epoch 4/30\n",
            "56/56 [==============================] - 7s 121ms/step - loss: 0.6622 - accuracy: 0.7371 - val_loss: 0.4803 - val_accuracy: 0.7945\n",
            "Epoch 5/30\n",
            "56/56 [==============================] - 5s 96ms/step - loss: 0.6041 - accuracy: 0.7615 - val_loss: 0.4436 - val_accuracy: 0.8247\n",
            "Epoch 6/30\n",
            "56/56 [==============================] - 5s 91ms/step - loss: 0.5393 - accuracy: 0.7805 - val_loss: 0.4279 - val_accuracy: 0.8420\n",
            "Epoch 7/30\n",
            "56/56 [==============================] - 7s 128ms/step - loss: 0.5006 - accuracy: 0.7949 - val_loss: 0.4966 - val_accuracy: 0.8161\n",
            "Epoch 8/30\n",
            "56/56 [==============================] - 5s 90ms/step - loss: 0.4566 - accuracy: 0.8182 - val_loss: 0.4375 - val_accuracy: 0.8348\n",
            "Epoch 9/30\n",
            "56/56 [==============================] - 7s 124ms/step - loss: 0.4673 - accuracy: 0.8204 - val_loss: 0.4038 - val_accuracy: 0.8420\n",
            "Epoch 10/30\n",
            "56/56 [==============================] - 5s 93ms/step - loss: 0.4478 - accuracy: 0.8200 - val_loss: 0.4032 - val_accuracy: 0.8463\n",
            "Epoch 11/30\n",
            "56/56 [==============================] - 5s 91ms/step - loss: 0.4053 - accuracy: 0.8438 - val_loss: 0.4808 - val_accuracy: 0.8175\n",
            "Epoch 12/30\n",
            "56/56 [==============================] - 7s 129ms/step - loss: 0.4112 - accuracy: 0.8391 - val_loss: 0.4082 - val_accuracy: 0.8506\n",
            "Epoch 13/30\n",
            "56/56 [==============================] - 5s 91ms/step - loss: 0.4001 - accuracy: 0.8495 - val_loss: 0.3939 - val_accuracy: 0.8319\n",
            "Epoch 14/30\n",
            "56/56 [==============================] - 7s 125ms/step - loss: 0.4098 - accuracy: 0.8394 - val_loss: 0.3823 - val_accuracy: 0.8506\n",
            "Epoch 15/30\n",
            "56/56 [==============================] - 5s 93ms/step - loss: 0.4261 - accuracy: 0.8276 - val_loss: 0.4183 - val_accuracy: 0.8348\n",
            "Epoch 16/30\n",
            "56/56 [==============================] - 5s 90ms/step - loss: 0.3922 - accuracy: 0.8434 - val_loss: 0.3826 - val_accuracy: 0.8592\n",
            "Epoch 17/30\n",
            "56/56 [==============================] - 8s 148ms/step - loss: 0.3845 - accuracy: 0.8509 - val_loss: 0.3823 - val_accuracy: 0.8549\n",
            "Epoch 18/30\n",
            "56/56 [==============================] - 5s 92ms/step - loss: 0.3816 - accuracy: 0.8484 - val_loss: 0.4107 - val_accuracy: 0.8218\n",
            "Epoch 19/30\n",
            "56/56 [==============================] - 7s 127ms/step - loss: 0.3764 - accuracy: 0.8538 - val_loss: 0.3879 - val_accuracy: 0.8333\n",
            "Epoch 20/30\n",
            "56/56 [==============================] - 5s 91ms/step - loss: 0.3672 - accuracy: 0.8563 - val_loss: 0.3848 - val_accuracy: 0.8649\n",
            "Epoch 21/30\n",
            "56/56 [==============================] - 6s 108ms/step - loss: 0.3566 - accuracy: 0.8614 - val_loss: 0.3705 - val_accuracy: 0.8563\n",
            "Epoch 22/30\n",
            "56/56 [==============================] - 6s 110ms/step - loss: 0.3839 - accuracy: 0.8495 - val_loss: 0.4675 - val_accuracy: 0.8060\n",
            "Epoch 23/30\n",
            "56/56 [==============================] - 6s 102ms/step - loss: 0.3510 - accuracy: 0.8599 - val_loss: 0.3738 - val_accuracy: 0.8707\n",
            "Epoch 24/30\n",
            "56/56 [==============================] - 7s 126ms/step - loss: 0.3409 - accuracy: 0.8596 - val_loss: 0.3725 - val_accuracy: 0.8463\n",
            "Epoch 25/30\n",
            "56/56 [==============================] - 5s 90ms/step - loss: 0.3387 - accuracy: 0.8703 - val_loss: 0.3846 - val_accuracy: 0.8420\n",
            "Epoch 26/30\n",
            "56/56 [==============================] - 6s 115ms/step - loss: 0.3285 - accuracy: 0.8732 - val_loss: 0.3991 - val_accuracy: 0.8333\n",
            "Epoch 27/30\n",
            "56/56 [==============================] - 6s 101ms/step - loss: 0.3525 - accuracy: 0.8653 - val_loss: 0.3716 - val_accuracy: 0.8520\n",
            "Epoch 28/30\n",
            "56/56 [==============================] - 5s 91ms/step - loss: 0.3410 - accuracy: 0.8693 - val_loss: 0.3770 - val_accuracy: 0.8563\n",
            "Epoch 29/30\n",
            "56/56 [==============================] - 7s 126ms/step - loss: 0.3532 - accuracy: 0.8631 - val_loss: 0.3527 - val_accuracy: 0.8549\n",
            "Epoch 30/30\n",
            "56/56 [==============================] - 5s 91ms/step - loss: 0.3244 - accuracy: 0.8768 - val_loss: 0.3520 - val_accuracy: 0.8664\n"
          ]
        },
        {
          "output_type": "execute_result",
          "data": {
            "text/plain": [
              "<keras.callbacks.History at 0x7f6f68b558d0>"
            ]
          },
          "metadata": {},
          "execution_count": 55
        }
      ]
    },
    {
      "cell_type": "code",
      "source": [
        "#train and test loss and scores respectively\n",
        "train_loss_score=model.evaluate(X_train,y_train)\n",
        "test_loss_score=model.evaluate(X_test,y_test)\n",
        "print(train_loss_score)\n",
        "print(test_loss_score)"
      ],
      "metadata": {
        "colab": {
          "base_uri": "https://localhost:8080/"
        },
        "id": "b7yrk3DfEuUG",
        "outputId": "8ebd3f96-334f-4136-ebe7-79444b4e525e"
      },
      "execution_count": 56,
      "outputs": [
        {
          "output_type": "stream",
          "name": "stdout",
          "text": [
            "87/87 [==============================] - 3s 34ms/step - loss: 0.2646 - accuracy: 0.8955\n",
            "22/22 [==============================] - 1s 24ms/step - loss: 0.3520 - accuracy: 0.8664\n",
            "[0.264556884765625, 0.8954741358757019]\n",
            "[0.35196757316589355, 0.8663793206214905]\n"
          ]
        }
      ]
    },
    {
      "cell_type": "code",
      "source": [
        "# Predict probabilities for test set\n",
        "y_probs = model.predict(X_test)\n",
        "# Get predicted labels\n",
        "yhat_probs = np.argmax(y_probs, axis=1)\n",
        "y_trues = np.argmax(y_test, axis=1)\n",
        "# Add \"pred\" column\n",
        "test['pred'] = yhat_probs"
      ],
      "metadata": {
        "colab": {
          "base_uri": "https://localhost:8080/"
        },
        "id": "b50C1IOTE8bW",
        "outputId": "0318a164-a488-4c9a-8152-9708ca06660b"
      },
      "execution_count": 57,
      "outputs": [
        {
          "output_type": "stream",
          "name": "stdout",
          "text": [
            "22/22 [==============================] - 1s 14ms/step\n"
          ]
        },
        {
          "output_type": "stream",
          "name": "stderr",
          "text": [
            "<ipython-input-57-1235db5f3c9d>:7: SettingWithCopyWarning: \n",
            "A value is trying to be set on a copy of a slice from a DataFrame.\n",
            "Try using .loc[row_indexer,col_indexer] = value instead\n",
            "\n",
            "See the caveats in the documentation: https://pandas.pydata.org/pandas-docs/stable/user_guide/indexing.html#returning-a-view-versus-a-copy\n",
            "  test['pred'] = yhat_probs\n"
          ]
        }
      ]
    },
    {
      "cell_type": "code",
      "source": [
        "np.set_printoptions(precision=2)\n",
        "# Compute confusion matrix data\n",
        "cm = confusion_matrix(y_trues, yhat_probs)\n",
        "print(cm)"
      ],
      "metadata": {
        "colab": {
          "base_uri": "https://localhost:8080/"
        },
        "id": "pO5tvwJpE_j5",
        "outputId": "4c4b3fbe-682e-4094-d42a-e5fe3f648594"
      },
      "execution_count": 59,
      "outputs": [
        {
          "output_type": "stream",
          "name": "stdout",
          "text": [
            "[[142  12  21]\n",
            " [ 43 161   3]\n",
            " [ 14   0 300]]\n"
          ]
        }
      ]
    },
    {
      "cell_type": "code",
      "source": [
        "# Define a labels array for future use\n",
        "labels = [ 'Roar' , 'IRoar' , 'Grunt' ]\n",
        "# Build classification report\n",
        "re = classification_report(y_trues, yhat_probs, labels=[0,1,2], target_names=labels)\n",
        "print(re)"
      ],
      "metadata": {
        "colab": {
          "base_uri": "https://localhost:8080/"
        },
        "id": "T2T9PSSmFRfs",
        "outputId": "a72138ac-21c0-46e2-c639-a621dbddba1b"
      },
      "execution_count": 60,
      "outputs": [
        {
          "output_type": "stream",
          "name": "stdout",
          "text": [
            "              precision    recall  f1-score   support\n",
            "\n",
            "        Roar       0.71      0.81      0.76       175\n",
            "       IRoar       0.93      0.78      0.85       207\n",
            "       Grunt       0.93      0.96      0.94       314\n",
            "\n",
            "    accuracy                           0.87       696\n",
            "   macro avg       0.86      0.85      0.85       696\n",
            "weighted avg       0.87      0.87      0.87       696\n",
            "\n"
          ]
        }
      ]
    },
    {
      "cell_type": "code",
      "source": [
        "# Set your path to the dataset\n",
        "audio_path = os.path.abspath('/content/drive/MyDrive/ThesisData')"
      ],
      "metadata": {
        "id": "XNnPGkG3FtZp"
      },
      "execution_count": 61,
      "outputs": []
    },
    {
      "cell_type": "code",
      "source": [
        "test.head()"
      ],
      "metadata": {
        "colab": {
          "base_uri": "https://localhost:8080/",
          "height": 206
        },
        "id": "PyKiCbU1Hdtw",
        "outputId": "0d3072c6-c535-43cc-bdce-d0502cc6cfe6"
      },
      "execution_count": 62,
      "outputs": [
        {
          "output_type": "execute_result",
          "data": {
            "text/plain": [
              "       fs_id slice_file_name  classID  fold  class  \\\n",
              "0  iroar_123   iroar_123.wav        1     1  IRoar   \n",
              "1  iroar_308   iroar_308.wav        1     1  IRoar   \n",
              "2  grunt_878   grunt_878.wav        2     2  Grunt   \n",
              "3   roar_178    roar_178.wav        0     1   Roar   \n",
              "4   roar_963    roar_963.wav        0     3   Roar   \n",
              "\n",
              "                                            filepath  duration  pred  \n",
              "0  /content/drive/MyDrive/ThesisData/File1/iroar_...  1.785488     1  \n",
              "1  /content/drive/MyDrive/ThesisData/File1/iroar_...  1.264354     1  \n",
              "2  /content/drive/MyDrive/ThesisData/File2/grunt_...  0.303628     2  \n",
              "3  /content/drive/MyDrive/ThesisData/File1/roar_1...  1.393515     0  \n",
              "4  /content/drive/MyDrive/ThesisData/File3/roar_9...  1.407211     0  "
            ],
            "text/html": [
              "\n",
              "\n",
              "  <div id=\"df-8e6f623a-3013-491a-8454-b526904ec934\">\n",
              "    <div class=\"colab-df-container\">\n",
              "      <div>\n",
              "<style scoped>\n",
              "    .dataframe tbody tr th:only-of-type {\n",
              "        vertical-align: middle;\n",
              "    }\n",
              "\n",
              "    .dataframe tbody tr th {\n",
              "        vertical-align: top;\n",
              "    }\n",
              "\n",
              "    .dataframe thead th {\n",
              "        text-align: right;\n",
              "    }\n",
              "</style>\n",
              "<table border=\"1\" class=\"dataframe\">\n",
              "  <thead>\n",
              "    <tr style=\"text-align: right;\">\n",
              "      <th></th>\n",
              "      <th>fs_id</th>\n",
              "      <th>slice_file_name</th>\n",
              "      <th>classID</th>\n",
              "      <th>fold</th>\n",
              "      <th>class</th>\n",
              "      <th>filepath</th>\n",
              "      <th>duration</th>\n",
              "      <th>pred</th>\n",
              "    </tr>\n",
              "  </thead>\n",
              "  <tbody>\n",
              "    <tr>\n",
              "      <th>0</th>\n",
              "      <td>iroar_123</td>\n",
              "      <td>iroar_123.wav</td>\n",
              "      <td>1</td>\n",
              "      <td>1</td>\n",
              "      <td>IRoar</td>\n",
              "      <td>/content/drive/MyDrive/ThesisData/File1/iroar_...</td>\n",
              "      <td>1.785488</td>\n",
              "      <td>1</td>\n",
              "    </tr>\n",
              "    <tr>\n",
              "      <th>1</th>\n",
              "      <td>iroar_308</td>\n",
              "      <td>iroar_308.wav</td>\n",
              "      <td>1</td>\n",
              "      <td>1</td>\n",
              "      <td>IRoar</td>\n",
              "      <td>/content/drive/MyDrive/ThesisData/File1/iroar_...</td>\n",
              "      <td>1.264354</td>\n",
              "      <td>1</td>\n",
              "    </tr>\n",
              "    <tr>\n",
              "      <th>2</th>\n",
              "      <td>grunt_878</td>\n",
              "      <td>grunt_878.wav</td>\n",
              "      <td>2</td>\n",
              "      <td>2</td>\n",
              "      <td>Grunt</td>\n",
              "      <td>/content/drive/MyDrive/ThesisData/File2/grunt_...</td>\n",
              "      <td>0.303628</td>\n",
              "      <td>2</td>\n",
              "    </tr>\n",
              "    <tr>\n",
              "      <th>3</th>\n",
              "      <td>roar_178</td>\n",
              "      <td>roar_178.wav</td>\n",
              "      <td>0</td>\n",
              "      <td>1</td>\n",
              "      <td>Roar</td>\n",
              "      <td>/content/drive/MyDrive/ThesisData/File1/roar_1...</td>\n",
              "      <td>1.393515</td>\n",
              "      <td>0</td>\n",
              "    </tr>\n",
              "    <tr>\n",
              "      <th>4</th>\n",
              "      <td>roar_963</td>\n",
              "      <td>roar_963.wav</td>\n",
              "      <td>0</td>\n",
              "      <td>3</td>\n",
              "      <td>Roar</td>\n",
              "      <td>/content/drive/MyDrive/ThesisData/File3/roar_9...</td>\n",
              "      <td>1.407211</td>\n",
              "      <td>0</td>\n",
              "    </tr>\n",
              "  </tbody>\n",
              "</table>\n",
              "</div>\n",
              "      <button class=\"colab-df-convert\" onclick=\"convertToInteractive('df-8e6f623a-3013-491a-8454-b526904ec934')\"\n",
              "              title=\"Convert this dataframe to an interactive table.\"\n",
              "              style=\"display:none;\">\n",
              "\n",
              "  <svg xmlns=\"http://www.w3.org/2000/svg\" height=\"24px\"viewBox=\"0 0 24 24\"\n",
              "       width=\"24px\">\n",
              "    <path d=\"M0 0h24v24H0V0z\" fill=\"none\"/>\n",
              "    <path d=\"M18.56 5.44l.94 2.06.94-2.06 2.06-.94-2.06-.94-.94-2.06-.94 2.06-2.06.94zm-11 1L8.5 8.5l.94-2.06 2.06-.94-2.06-.94L8.5 2.5l-.94 2.06-2.06.94zm10 10l.94 2.06.94-2.06 2.06-.94-2.06-.94-.94-2.06-.94 2.06-2.06.94z\"/><path d=\"M17.41 7.96l-1.37-1.37c-.4-.4-.92-.59-1.43-.59-.52 0-1.04.2-1.43.59L10.3 9.45l-7.72 7.72c-.78.78-.78 2.05 0 2.83L4 21.41c.39.39.9.59 1.41.59.51 0 1.02-.2 1.41-.59l7.78-7.78 2.81-2.81c.8-.78.8-2.07 0-2.86zM5.41 20L4 18.59l7.72-7.72 1.47 1.35L5.41 20z\"/>\n",
              "  </svg>\n",
              "      </button>\n",
              "\n",
              "\n",
              "\n",
              "    <div id=\"df-ce5de301-4912-4f3b-ba91-88cefec3c3c2\">\n",
              "      <button class=\"colab-df-quickchart\" onclick=\"quickchart('df-ce5de301-4912-4f3b-ba91-88cefec3c3c2')\"\n",
              "              title=\"Suggest charts.\"\n",
              "              style=\"display:none;\">\n",
              "\n",
              "<svg xmlns=\"http://www.w3.org/2000/svg\" height=\"24px\"viewBox=\"0 0 24 24\"\n",
              "     width=\"24px\">\n",
              "    <g>\n",
              "        <path d=\"M19 3H5c-1.1 0-2 .9-2 2v14c0 1.1.9 2 2 2h14c1.1 0 2-.9 2-2V5c0-1.1-.9-2-2-2zM9 17H7v-7h2v7zm4 0h-2V7h2v10zm4 0h-2v-4h2v4z\"/>\n",
              "    </g>\n",
              "</svg>\n",
              "      </button>\n",
              "    </div>\n",
              "\n",
              "<style>\n",
              "  .colab-df-quickchart {\n",
              "    background-color: #E8F0FE;\n",
              "    border: none;\n",
              "    border-radius: 50%;\n",
              "    cursor: pointer;\n",
              "    display: none;\n",
              "    fill: #1967D2;\n",
              "    height: 32px;\n",
              "    padding: 0 0 0 0;\n",
              "    width: 32px;\n",
              "  }\n",
              "\n",
              "  .colab-df-quickchart:hover {\n",
              "    background-color: #E2EBFA;\n",
              "    box-shadow: 0px 1px 2px rgba(60, 64, 67, 0.3), 0px 1px 3px 1px rgba(60, 64, 67, 0.15);\n",
              "    fill: #174EA6;\n",
              "  }\n",
              "\n",
              "  [theme=dark] .colab-df-quickchart {\n",
              "    background-color: #3B4455;\n",
              "    fill: #D2E3FC;\n",
              "  }\n",
              "\n",
              "  [theme=dark] .colab-df-quickchart:hover {\n",
              "    background-color: #434B5C;\n",
              "    box-shadow: 0px 1px 3px 1px rgba(0, 0, 0, 0.15);\n",
              "    filter: drop-shadow(0px 1px 2px rgba(0, 0, 0, 0.3));\n",
              "    fill: #FFFFFF;\n",
              "  }\n",
              "</style>\n",
              "\n",
              "    <script>\n",
              "      async function quickchart(key) {\n",
              "        const containerElement = document.querySelector('#' + key);\n",
              "        const charts = await google.colab.kernel.invokeFunction(\n",
              "            'suggestCharts', [key], {});\n",
              "      }\n",
              "    </script>\n",
              "\n",
              "      <script>\n",
              "\n",
              "function displayQuickchartButton(domScope) {\n",
              "  let quickchartButtonEl =\n",
              "    domScope.querySelector('#df-ce5de301-4912-4f3b-ba91-88cefec3c3c2 button.colab-df-quickchart');\n",
              "  quickchartButtonEl.style.display =\n",
              "    google.colab.kernel.accessAllowed ? 'block' : 'none';\n",
              "}\n",
              "\n",
              "        displayQuickchartButton(document);\n",
              "      </script>\n",
              "      <style>\n",
              "    .colab-df-container {\n",
              "      display:flex;\n",
              "      flex-wrap:wrap;\n",
              "      gap: 12px;\n",
              "    }\n",
              "\n",
              "    .colab-df-convert {\n",
              "      background-color: #E8F0FE;\n",
              "      border: none;\n",
              "      border-radius: 50%;\n",
              "      cursor: pointer;\n",
              "      display: none;\n",
              "      fill: #1967D2;\n",
              "      height: 32px;\n",
              "      padding: 0 0 0 0;\n",
              "      width: 32px;\n",
              "    }\n",
              "\n",
              "    .colab-df-convert:hover {\n",
              "      background-color: #E2EBFA;\n",
              "      box-shadow: 0px 1px 2px rgba(60, 64, 67, 0.3), 0px 1px 3px 1px rgba(60, 64, 67, 0.15);\n",
              "      fill: #174EA6;\n",
              "    }\n",
              "\n",
              "    [theme=dark] .colab-df-convert {\n",
              "      background-color: #3B4455;\n",
              "      fill: #D2E3FC;\n",
              "    }\n",
              "\n",
              "    [theme=dark] .colab-df-convert:hover {\n",
              "      background-color: #434B5C;\n",
              "      box-shadow: 0px 1px 3px 1px rgba(0, 0, 0, 0.15);\n",
              "      filter: drop-shadow(0px 1px 2px rgba(0, 0, 0, 0.3));\n",
              "      fill: #FFFFFF;\n",
              "    }\n",
              "  </style>\n",
              "\n",
              "      <script>\n",
              "        const buttonEl =\n",
              "          document.querySelector('#df-8e6f623a-3013-491a-8454-b526904ec934 button.colab-df-convert');\n",
              "        buttonEl.style.display =\n",
              "          google.colab.kernel.accessAllowed ? 'block' : 'none';\n",
              "\n",
              "        async function convertToInteractive(key) {\n",
              "          const element = document.querySelector('#df-8e6f623a-3013-491a-8454-b526904ec934');\n",
              "          const dataTable =\n",
              "            await google.colab.kernel.invokeFunction('convertToInteractive',\n",
              "                                                     [key], {});\n",
              "          if (!dataTable) return;\n",
              "\n",
              "          const docLinkHtml = 'Like what you see? Visit the ' +\n",
              "            '<a target=\"_blank\" href=https://colab.research.google.com/notebooks/data_table.ipynb>data table notebook</a>'\n",
              "            + ' to learn more about interactive tables.';\n",
              "          element.innerHTML = '';\n",
              "          dataTable['output_type'] = 'display_data';\n",
              "          await google.colab.output.renderOutput(dataTable, element);\n",
              "          const docLink = document.createElement('div');\n",
              "          docLink.innerHTML = docLinkHtml;\n",
              "          element.appendChild(docLink);\n",
              "        }\n",
              "      </script>\n",
              "    </div>\n",
              "  </div>\n"
            ]
          },
          "metadata": {},
          "execution_count": 62
        }
      ]
    },
    {
      "cell_type": "code",
      "source": [
        "# Find the target misclassified ocurrencies\n",
        "grunt_as_roar = test[(test['classID'] == 2) & (test['pred'] == 0)]\n",
        "files = []\n",
        "for idx, row in grunt_as_roar.iterrows(): fold_num = str(row['fold'])\n",
        "file_name = row['slice_file_name']\n",
        "category = row['class']\n",
        "file_path = audio_path + '/File'+ fold_num +'/' + file_name\n",
        "files.append(file_path)\n",
        "print(\"Lion Grunts as Lion Roars: {} ocurrencies\".format(len(grunt_as_roar)))\n",
        "# Manully set the file index\n",
        "index = 24\n",
        "# Display results\n",
        "print(\"\\nTrue category: {}\".format(category))"
      ],
      "metadata": {
        "colab": {
          "base_uri": "https://localhost:8080/"
        },
        "id": "Cy3SnyoxGAr-",
        "outputId": "a22e22f4-1311-47f9-8a62-76569b1418e7"
      },
      "execution_count": 63,
      "outputs": [
        {
          "output_type": "stream",
          "name": "stdout",
          "text": [
            "Lion Grunts as Lion Roars: 87 ocurrencies\n",
            "\n",
            "True category: Grunt\n"
          ]
        }
      ]
    }
  ]
}